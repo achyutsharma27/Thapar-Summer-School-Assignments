{
  "nbformat": 4,
  "nbformat_minor": 0,
  "metadata": {
    "colab": {
      "provenance": [],
      "include_colab_link": true
    },
    "kernelspec": {
      "name": "python3",
      "display_name": "Python 3"
    },
    "language_info": {
      "name": "python"
    }
  },
  "cells": [
    {
      "cell_type": "markdown",
      "metadata": {
        "id": "view-in-github",
        "colab_type": "text"
      },
      "source": [
        "<a href=\"https://colab.research.google.com/github/achyutsharma27/Thapar-Summer-School-Assignments/blob/main/Assingment_1.ipynb\" target=\"_parent\"><img src=\"https://colab.research.google.com/assets/colab-badge.svg\" alt=\"Open In Colab\"/></a>"
      ]
    },
    {
      "cell_type": "markdown",
      "source": [
        "Question 1.1"
      ],
      "metadata": {
        "id": "7alZ7R63a1wh"
      }
    },
    {
      "cell_type": "code",
      "execution_count": null,
      "metadata": {
        "colab": {
          "base_uri": "https://localhost:8080/"
        },
        "id": "2mDafiXZadL-",
        "outputId": "648d62e1-b50d-4421-b262-e9a5e49aebcb"
      },
      "outputs": [
        {
          "output_type": "stream",
          "name": "stdout",
          "text": [
            "[11, 12, 13, 14, 50, 60]\n"
          ]
        }
      ],
      "source": [
        "L = [11,12,13,14]\n",
        "L.append(50)\n",
        "L.append(60)\n",
        "print(L)"
      ]
    },
    {
      "cell_type": "markdown",
      "source": [
        "Question 1.2"
      ],
      "metadata": {
        "id": "YElPLdy3a0wv"
      }
    },
    {
      "cell_type": "code",
      "source": [
        "del L[0]\n",
        "print(L)"
      ],
      "metadata": {
        "colab": {
          "base_uri": "https://localhost:8080/"
        },
        "id": "uUfELwOBcpFR",
        "outputId": "2c833a22-9f78-4a5b-f4c1-438f3ae35e20"
      },
      "execution_count": null,
      "outputs": [
        {
          "output_type": "stream",
          "name": "stdout",
          "text": [
            "[12, 13, 14, 50, 60]\n"
          ]
        }
      ]
    },
    {
      "cell_type": "code",
      "source": [
        "del L[1]\n",
        "print(L)"
      ],
      "metadata": {
        "colab": {
          "base_uri": "https://localhost:8080/"
        },
        "id": "tdH2h3ACdQGg",
        "outputId": "d646ce34-30ba-44d2-ac32-d23e15daaaac"
      },
      "execution_count": null,
      "outputs": [
        {
          "output_type": "stream",
          "name": "stdout",
          "text": [
            "[12, 14, 50, 60]\n"
          ]
        }
      ]
    },
    {
      "cell_type": "markdown",
      "source": [
        "Question 1.3"
      ],
      "metadata": {
        "id": "aLuGNLEsdYek"
      }
    },
    {
      "cell_type": "code",
      "source": [
        "L = [11,12,13,14]\n",
        "L.sort()\n",
        "print(L)"
      ],
      "metadata": {
        "colab": {
          "base_uri": "https://localhost:8080/"
        },
        "id": "si6AdKAZdbTe",
        "outputId": "7a92c439-719a-452d-abd7-2ed4bb7eec73"
      },
      "execution_count": null,
      "outputs": [
        {
          "output_type": "stream",
          "name": "stdout",
          "text": [
            "[11, 12, 13, 14]\n"
          ]
        }
      ]
    },
    {
      "cell_type": "markdown",
      "source": [
        "question 1.4"
      ],
      "metadata": {
        "id": "t3aK3oC-eCQ6"
      }
    },
    {
      "cell_type": "code",
      "source": [
        "L.sort(reverse = True)\n",
        "print(L)"
      ],
      "metadata": {
        "colab": {
          "base_uri": "https://localhost:8080/"
        },
        "id": "-Iv8M3EZd0jY",
        "outputId": "27c21ecf-a9ed-45df-abd6-cc1c86cb7b28"
      },
      "execution_count": null,
      "outputs": [
        {
          "output_type": "stream",
          "name": "stdout",
          "text": [
            "[14, 13, 12, 11]\n"
          ]
        }
      ]
    },
    {
      "cell_type": "markdown",
      "source": [
        "question 1.5"
      ],
      "metadata": {
        "id": "OOwkVF5Nd95h"
      }
    },
    {
      "cell_type": "code",
      "source": [
        "L = [11,12,13,14]\n",
        "if 13 in L:\n",
        "  print(\"present\")\n",
        "else:\n",
        "  print(\"Not present\")"
      ],
      "metadata": {
        "colab": {
          "base_uri": "https://localhost:8080/"
        },
        "id": "QdZa4zzZd_Xp",
        "outputId": "eb719928-da97-4ccf-cf0a-fa3608258622"
      },
      "execution_count": null,
      "outputs": [
        {
          "output_type": "stream",
          "name": "stdout",
          "text": [
            "present\n"
          ]
        }
      ]
    },
    {
      "cell_type": "markdown",
      "source": [
        "question 1.6"
      ],
      "metadata": {
        "id": "9hIZAicdeZQI"
      }
    },
    {
      "cell_type": "code",
      "source": [
        "print(len(L))"
      ],
      "metadata": {
        "colab": {
          "base_uri": "https://localhost:8080/"
        },
        "id": "jZldoECxeayP",
        "outputId": "c9d41536-7382-46a1-f2e1-b49ca76c1fc5"
      },
      "execution_count": null,
      "outputs": [
        {
          "output_type": "stream",
          "name": "stdout",
          "text": [
            "4\n"
          ]
        }
      ]
    },
    {
      "cell_type": "markdown",
      "source": [
        "question 1.7"
      ],
      "metadata": {
        "id": "eSpUHqgie0q0"
      }
    },
    {
      "cell_type": "code",
      "source": [
        "print(\"Sum of list is \", sum(L))"
      ],
      "metadata": {
        "colab": {
          "base_uri": "https://localhost:8080/"
        },
        "id": "iyX8Xc7we2oB",
        "outputId": "a0ef5eaf-5ea8-4fc0-91a1-a64b48a8fa86"
      },
      "execution_count": null,
      "outputs": [
        {
          "output_type": "stream",
          "name": "stdout",
          "text": [
            "Sum of list is  50\n"
          ]
        }
      ]
    },
    {
      "cell_type": "markdown",
      "source": [
        "Question 1.8"
      ],
      "metadata": {
        "id": "hpTGsrsgfIeb"
      }
    },
    {
      "cell_type": "code",
      "source": [
        "def is_odd(num):\n",
        "  if num%2 == 0:\n",
        "    return False\n",
        "  else:\n",
        "    return True\n",
        "\n",
        "total = 0\n",
        "\n",
        "for i in L:\n",
        "  if is_odd(i):\n",
        "    total += i\n",
        "\n",
        "print(\"Sum of all odd numbers in list is \", total)"
      ],
      "metadata": {
        "colab": {
          "base_uri": "https://localhost:8080/"
        },
        "id": "72KEnv4bfKTr",
        "outputId": "7d6927f4-8c06-4cd9-f4ea-ecea82bfdf1e"
      },
      "execution_count": null,
      "outputs": [
        {
          "output_type": "stream",
          "name": "stdout",
          "text": [
            "Sum of all odd numbers in list is  24\n"
          ]
        }
      ]
    },
    {
      "cell_type": "markdown",
      "source": [
        "Question 1.9"
      ],
      "metadata": {
        "id": "Mn5O2_uegRcQ"
      }
    },
    {
      "cell_type": "code",
      "source": [
        "def is_odd(num):\n",
        "  if num%2 == 0:\n",
        "    return False\n",
        "  else:\n",
        "    return True\n",
        "\n",
        "total = 0\n",
        "\n",
        "for i in L:\n",
        "  if not is_odd(i):\n",
        "    total += i\n",
        "\n",
        "print(\"Sum of all even numbers in list is \", total)"
      ],
      "metadata": {
        "colab": {
          "base_uri": "https://localhost:8080/"
        },
        "id": "EUHczNjfgTJ8",
        "outputId": "30fdb94d-9ceb-4ebb-9d46-dca002c021e8"
      },
      "execution_count": null,
      "outputs": [
        {
          "output_type": "stream",
          "name": "stdout",
          "text": [
            "Sum of all odd numbers in list is  26\n"
          ]
        }
      ]
    },
    {
      "cell_type": "markdown",
      "source": [
        "Question 1.10"
      ],
      "metadata": {
        "id": "ZYxh-OpsggZN"
      }
    },
    {
      "cell_type": "code",
      "source": [
        "def is_prime(num):\n",
        "  for i in range(2, num//2 +1):\n",
        "    if num % i == 0:\n",
        "      return False\n",
        "    else:\n",
        "      return True\n",
        "\n",
        "total = 0\n",
        "\n",
        "for i in L:\n",
        "  if is_prime(i):\n",
        "    total += i\n",
        "\n",
        "print(\"Sum of all prime numbers in list is \", total)\n"
      ],
      "metadata": {
        "colab": {
          "base_uri": "https://localhost:8080/"
        },
        "id": "aA6Szs_Tgirz",
        "outputId": "51be90c1-f806-440a-a2cf-927590e0a2ed"
      },
      "execution_count": null,
      "outputs": [
        {
          "output_type": "stream",
          "name": "stdout",
          "text": [
            "Sum of all prime numbers in list is  24\n"
          ]
        }
      ]
    },
    {
      "cell_type": "markdown",
      "source": [
        "Question 1.11"
      ],
      "metadata": {
        "id": "-kLYqwzKhe7v"
      }
    },
    {
      "cell_type": "code",
      "source": [
        "L = [11,12,13,14]\n",
        "del L\n",
        "print(L)"
      ],
      "metadata": {
        "colab": {
          "base_uri": "https://localhost:8080/",
          "height": 200
        },
        "id": "EUOcTGrWhhTy",
        "outputId": "36c07645-ec1f-4fcc-f246-c35debd31069"
      },
      "execution_count": null,
      "outputs": [
        {
          "output_type": "error",
          "ename": "NameError",
          "evalue": "ignored",
          "traceback": [
            "\u001b[0;31m---------------------------------------------------------------------------\u001b[0m",
            "\u001b[0;31mNameError\u001b[0m                                 Traceback (most recent call last)",
            "\u001b[0;32m<ipython-input-30-442c58447610>\u001b[0m in \u001b[0;36m<cell line: 3>\u001b[0;34m()\u001b[0m\n\u001b[1;32m      1\u001b[0m \u001b[0mL\u001b[0m \u001b[0;34m=\u001b[0m \u001b[0;34m[\u001b[0m\u001b[0;36m11\u001b[0m\u001b[0;34m,\u001b[0m\u001b[0;36m12\u001b[0m\u001b[0;34m,\u001b[0m\u001b[0;36m13\u001b[0m\u001b[0;34m,\u001b[0m\u001b[0;36m14\u001b[0m\u001b[0;34m]\u001b[0m\u001b[0;34m\u001b[0m\u001b[0;34m\u001b[0m\u001b[0m\n\u001b[1;32m      2\u001b[0m \u001b[0;32mdel\u001b[0m \u001b[0mL\u001b[0m\u001b[0;34m\u001b[0m\u001b[0;34m\u001b[0m\u001b[0m\n\u001b[0;32m----> 3\u001b[0;31m \u001b[0mprint\u001b[0m\u001b[0;34m(\u001b[0m\u001b[0mL\u001b[0m\u001b[0;34m)\u001b[0m\u001b[0;34m\u001b[0m\u001b[0;34m\u001b[0m\u001b[0m\n\u001b[0m",
            "\u001b[0;31mNameError\u001b[0m: name 'L' is not defined"
          ]
        }
      ]
    },
    {
      "cell_type": "markdown",
      "source": [
        "Question 2.1"
      ],
      "metadata": {
        "id": "FbHe3TabiJIU"
      }
    },
    {
      "cell_type": "code",
      "source": [
        "D = {1:5.6, 2:7.8, 3:6.6, 4:8.7, 5:7.7}\n",
        "D[8] = 8.8\n",
        "print(D)\n"
      ],
      "metadata": {
        "colab": {
          "base_uri": "https://localhost:8080/"
        },
        "id": "-ljOzEJgiKuH",
        "outputId": "12f48b09-a2ba-4a0a-9d71-2e3fc04a302f"
      },
      "execution_count": null,
      "outputs": [
        {
          "output_type": "stream",
          "name": "stdout",
          "text": [
            "{1: 5.6, 2: 7.8, 3: 6.6, 4: 8.7, 5: 7.7, 8: 8.8}\n"
          ]
        }
      ]
    },
    {
      "cell_type": "markdown",
      "source": [
        "Question 2.2"
      ],
      "metadata": {
        "id": "Oi9mBA_Cjya7"
      }
    },
    {
      "cell_type": "code",
      "source": [
        "del D[2]\n",
        "print(D)"
      ],
      "metadata": {
        "colab": {
          "base_uri": "https://localhost:8080/"
        },
        "id": "a-CHz8Wpj0hp",
        "outputId": "43af1928-d743-4a5c-cf93-dadde7fb1a0e"
      },
      "execution_count": null,
      "outputs": [
        {
          "output_type": "stream",
          "name": "stdout",
          "text": [
            "{1: 5.6, 3: 6.6, 4: 8.7, 5: 7.7, 8: 8.8}\n"
          ]
        }
      ]
    },
    {
      "cell_type": "markdown",
      "source": [
        "Question 2.3"
      ],
      "metadata": {
        "id": "tbS6TBpGkMNB"
      }
    },
    {
      "cell_type": "code",
      "source": [
        "print(6 in D)"
      ],
      "metadata": {
        "colab": {
          "base_uri": "https://localhost:8080/"
        },
        "id": "kK9HrOIAkN5q",
        "outputId": "97ff6638-97a6-43bc-9074-2fd3ed090014"
      },
      "execution_count": null,
      "outputs": [
        {
          "output_type": "stream",
          "name": "stdout",
          "text": [
            "False\n"
          ]
        }
      ]
    },
    {
      "cell_type": "markdown",
      "source": [
        "Question 2.4"
      ],
      "metadata": {
        "id": "5BYa812hltAA"
      }
    },
    {
      "cell_type": "code",
      "source": [
        "print(len(D))"
      ],
      "metadata": {
        "colab": {
          "base_uri": "https://localhost:8080/"
        },
        "id": "10vueX9llwJg",
        "outputId": "9765839b-d3de-4393-f48a-7f65c636e0c1"
      },
      "execution_count": null,
      "outputs": [
        {
          "output_type": "stream",
          "name": "stdout",
          "text": [
            "5\n"
          ]
        }
      ]
    },
    {
      "cell_type": "markdown",
      "source": [
        "Question 2.5"
      ],
      "metadata": {
        "id": "4J3Ixj8Bl2jY"
      }
    },
    {
      "cell_type": "code",
      "source": [
        "s = 0\n",
        "for i in D.values():\n",
        "  s += i\n",
        "print(s)"
      ],
      "metadata": {
        "colab": {
          "base_uri": "https://localhost:8080/"
        },
        "id": "wsKAuvi1l4EG",
        "outputId": "057b4fc4-08f0-4d19-b84a-b8677ee8c09f"
      },
      "execution_count": null,
      "outputs": [
        {
          "output_type": "stream",
          "name": "stdout",
          "text": [
            "37.4\n"
          ]
        }
      ]
    },
    {
      "cell_type": "markdown",
      "source": [
        "Question 2.6"
      ],
      "metadata": {
        "id": "Ll2tgxj_nPwH"
      }
    },
    {
      "cell_type": "code",
      "source": [
        "D[3] = 7.1\n",
        "print(D)"
      ],
      "metadata": {
        "colab": {
          "base_uri": "https://localhost:8080/"
        },
        "id": "b-SZf0NUnRi1",
        "outputId": "cbd92e50-f421-4bf0-d0a2-2e7706f8f4f3"
      },
      "execution_count": null,
      "outputs": [
        {
          "output_type": "stream",
          "name": "stdout",
          "text": [
            "{1: 5.6, 3: 7.1, 4: 8.7, 5: 7.7, 8: 8.8}\n"
          ]
        }
      ]
    },
    {
      "cell_type": "markdown",
      "source": [
        "Question 2.7"
      ],
      "metadata": {
        "id": "FDeyWG5rnbSU"
      }
    },
    {
      "cell_type": "code",
      "source": [
        "D.clear()\n",
        "print(D)"
      ],
      "metadata": {
        "colab": {
          "base_uri": "https://localhost:8080/"
        },
        "id": "P4KKnwOLnc6o",
        "outputId": "d312f284-729b-459d-a344-6ea776dcc571"
      },
      "execution_count": null,
      "outputs": [
        {
          "output_type": "stream",
          "name": "stdout",
          "text": [
            "{}\n"
          ]
        }
      ]
    },
    {
      "cell_type": "markdown",
      "source": [
        "Question 3.1"
      ],
      "metadata": {
        "id": "ZplSWSk2nh_7"
      }
    },
    {
      "cell_type": "code",
      "source": [
        "S1 = set([10,20,30,40,50,60])\n",
        "S2 = set([40,50,60,70,80,90])\n",
        "\n",
        "S1.add(55)\n",
        "S1.add(66)\n",
        "\n",
        "print(S1)\n",
        "\n"
      ],
      "metadata": {
        "colab": {
          "base_uri": "https://localhost:8080/"
        },
        "id": "Z0lKi7f9njlv",
        "outputId": "2f7c6025-55a9-4a1c-da82-ab6e50b02bec"
      },
      "execution_count": null,
      "outputs": [
        {
          "output_type": "stream",
          "name": "stdout",
          "text": [
            "{66, 40, 10, 50, 20, 55, 60, 30}\n"
          ]
        }
      ]
    },
    {
      "cell_type": "markdown",
      "source": [
        "Question 3.2"
      ],
      "metadata": {
        "id": "onqE3A-9q_VT"
      }
    },
    {
      "cell_type": "code",
      "source": [
        "S1.remove(10)\n",
        "S1.remove(30)\n",
        "print(S1)"
      ],
      "metadata": {
        "colab": {
          "base_uri": "https://localhost:8080/"
        },
        "id": "YCjKkxZWrD_f",
        "outputId": "7a82a877-7ec7-4801-bbab-9e418a6d2e86"
      },
      "execution_count": null,
      "outputs": [
        {
          "output_type": "stream",
          "name": "stdout",
          "text": [
            "{66, 40, 50, 20, 55, 60}\n"
          ]
        }
      ]
    },
    {
      "cell_type": "markdown",
      "source": [
        "Question 3.3"
      ],
      "metadata": {
        "id": "CBYWD-o1rNrb"
      }
    },
    {
      "cell_type": "code",
      "source": [
        "print(40 in S1)"
      ],
      "metadata": {
        "colab": {
          "base_uri": "https://localhost:8080/"
        },
        "id": "sSjUuffUrPkj",
        "outputId": "aee33354-7329-4000-96d2-73915d70f39d"
      },
      "execution_count": null,
      "outputs": [
        {
          "output_type": "stream",
          "name": "stdout",
          "text": [
            "True\n"
          ]
        }
      ]
    },
    {
      "cell_type": "markdown",
      "source": [
        "Question 3.4"
      ],
      "metadata": {
        "id": "W_JFsntYrXc6"
      }
    },
    {
      "cell_type": "code",
      "source": [
        "print(S1.union(S2))"
      ],
      "metadata": {
        "colab": {
          "base_uri": "https://localhost:8080/"
        },
        "id": "Yx0hHW7frZEm",
        "outputId": "cf8ea5b5-e04d-4f4c-f78f-93e9f3b57962"
      },
      "execution_count": null,
      "outputs": [
        {
          "output_type": "stream",
          "name": "stdout",
          "text": [
            "{66, 70, 40, 80, 50, 20, 55, 90, 60}\n"
          ]
        }
      ]
    },
    {
      "cell_type": "markdown",
      "source": [
        "Question 3.5"
      ],
      "metadata": {
        "id": "z2k_gSwIr2SZ"
      }
    },
    {
      "cell_type": "code",
      "source": [
        "print(S1.intersection(S2))"
      ],
      "metadata": {
        "colab": {
          "base_uri": "https://localhost:8080/"
        },
        "id": "18q-puBysB3s",
        "outputId": "0ca31b4d-9d96-40ae-ccf4-74321a4c0f4b"
      },
      "execution_count": null,
      "outputs": [
        {
          "output_type": "stream",
          "name": "stdout",
          "text": [
            "{40, 50, 60}\n"
          ]
        }
      ]
    },
    {
      "cell_type": "markdown",
      "source": [
        "Question 3.6"
      ],
      "metadata": {
        "id": "mv1hsQzssed8"
      }
    },
    {
      "cell_type": "code",
      "source": [
        "print(S1-S2)"
      ],
      "metadata": {
        "colab": {
          "base_uri": "https://localhost:8080/"
        },
        "id": "k6T19bkEsgVS",
        "outputId": "74457eae-8a14-4d3f-c681-078fcae49b4f"
      },
      "execution_count": null,
      "outputs": [
        {
          "output_type": "stream",
          "name": "stdout",
          "text": [
            "{66, 20, 55}\n"
          ]
        }
      ]
    },
    {
      "cell_type": "markdown",
      "source": [
        "Question *4.1*"
      ],
      "metadata": {
        "id": "f-5-pTWiuGD3"
      }
    },
    {
      "cell_type": "code",
      "source": [
        "import random\n",
        "import string\n",
        "\n",
        "def generate_random_string(length):\n",
        "    return ''.join(random.choice(string.ascii_letters) for i in range(length))\n",
        "\n",
        "for i in range(100):\n",
        "    string_length = random.randint(6,8)\n",
        "    random_string = generate_random_string(string_length)\n",
        "    print(random_string)\n"
      ],
      "metadata": {
        "id": "liOEM6rluKCf",
        "colab": {
          "base_uri": "https://localhost:8080/"
        },
        "outputId": "e0f08450-b989-4d2c-a6ec-f7a86d50117b"
      },
      "execution_count": null,
      "outputs": [
        {
          "output_type": "stream",
          "name": "stdout",
          "text": [
            "CfKTzsWL\n",
            "fQJXFO\n",
            "lndADO\n",
            "vIdVGe\n",
            "nnsyrctJ\n",
            "ZDlLKZjP\n",
            "KDRrej\n",
            "OczhKkWz\n",
            "UmhmnbM\n",
            "GaXwuBYB\n",
            "OobGumjO\n",
            "OjpGBHda\n",
            "NzBqWd\n",
            "eojyNx\n",
            "WXguMUMz\n",
            "bcgjNlz\n",
            "JgmIAA\n",
            "OUUUVDI\n",
            "DwFJvuF\n",
            "cAFAOjF\n",
            "UpGcUKZt\n",
            "EdleGwTJ\n",
            "MtRukoO\n",
            "qGMlkWHC\n",
            "LEKnUXRJ\n",
            "lYypxRq\n",
            "oeqyli\n",
            "YErdTPa\n",
            "lxZSCWkL\n",
            "Dtrbmc\n",
            "ymahGR\n",
            "XHLWjRdw\n",
            "uXIoKQqh\n",
            "fkBCnvDi\n",
            "DCeCDelw\n",
            "tvomyNQF\n",
            "LAQsZDd\n",
            "cXTMfyn\n",
            "YeoYSYdW\n",
            "mLWRNvl\n",
            "IHdSWz\n",
            "PYcIxU\n",
            "rWYDWtMC\n",
            "EffFqH\n",
            "misQSgj\n",
            "rzEOcf\n",
            "qgzoHH\n",
            "LwFMzM\n",
            "OLxABSH\n",
            "EMCGVW\n",
            "JibOWbzR\n",
            "BDESMFg\n",
            "VvZcsZC\n",
            "FHtcCF\n",
            "bvUOPW\n",
            "sdfaNQm\n",
            "BCsYyABG\n",
            "aQoDkpRh\n",
            "ICrusQ\n",
            "JMYiYaAe\n",
            "uYEBQGO\n",
            "cRyCxa\n",
            "kviMKim\n",
            "YNOxlBsa\n",
            "lFPaSPi\n",
            "GgGSeA\n",
            "pMkaNq\n",
            "kTALzNql\n",
            "ADUNdRDF\n",
            "qlNkGH\n",
            "jOlYWwug\n",
            "rEpWuzgc\n",
            "qBVCaWi\n",
            "zpqmnvU\n",
            "SXoIWDN\n",
            "txhHXHI\n",
            "ZoOLFMLb\n",
            "QlycBX\n",
            "FIJDYYvB\n",
            "JWmtDl\n",
            "QwEPXkhH\n",
            "WPTwBJVm\n",
            "VFQHdn\n",
            "xlQjBiXS\n",
            "eJnUmaCw\n",
            "ffQJqdhH\n",
            "rLDEzDh\n",
            "ZAPMsuP\n",
            "McyDQSj\n",
            "EHaUAd\n",
            "DHLpWa\n",
            "JiHIwYoE\n",
            "MSEhoBwr\n",
            "OTGACFj\n",
            "ydolNU\n",
            "WarxES\n",
            "NKCskA\n",
            "gudrEHl\n",
            "DURsnhE\n",
            "zWxVtLe\n"
          ]
        }
      ]
    },
    {
      "cell_type": "markdown",
      "source": [
        "Question 4.2"
      ],
      "metadata": {
        "id": "bCrqWVxmicss"
      }
    },
    {
      "cell_type": "code",
      "source": [
        "def is_prime(num):\n",
        "  for i in range(2, num//2 +1):\n",
        "    if num % i == 0:\n",
        "      return False\n",
        "    else:\n",
        "      return True\n",
        "\n",
        "for i in range(600, 801):\n",
        "  if is_prime(i):\n",
        "    print(i)\n"
      ],
      "metadata": {
        "colab": {
          "base_uri": "https://localhost:8080/"
        },
        "id": "NFNJfB0ZifLW",
        "outputId": "76efda5f-8f0a-4fbb-d1b9-4c66e992bcac"
      },
      "execution_count": null,
      "outputs": [
        {
          "output_type": "stream",
          "name": "stdout",
          "text": [
            "601\n",
            "603\n",
            "605\n",
            "607\n",
            "609\n",
            "611\n",
            "613\n",
            "615\n",
            "617\n",
            "619\n",
            "621\n",
            "623\n",
            "625\n",
            "627\n",
            "629\n",
            "631\n",
            "633\n",
            "635\n",
            "637\n",
            "639\n",
            "641\n",
            "643\n",
            "645\n",
            "647\n",
            "649\n",
            "651\n",
            "653\n",
            "655\n",
            "657\n",
            "659\n",
            "661\n",
            "663\n",
            "665\n",
            "667\n",
            "669\n",
            "671\n",
            "673\n",
            "675\n",
            "677\n",
            "679\n",
            "681\n",
            "683\n",
            "685\n",
            "687\n",
            "689\n",
            "691\n",
            "693\n",
            "695\n",
            "697\n",
            "699\n",
            "701\n",
            "703\n",
            "705\n",
            "707\n",
            "709\n",
            "711\n",
            "713\n",
            "715\n",
            "717\n",
            "719\n",
            "721\n",
            "723\n",
            "725\n",
            "727\n",
            "729\n",
            "731\n",
            "733\n",
            "735\n",
            "737\n",
            "739\n",
            "741\n",
            "743\n",
            "745\n",
            "747\n",
            "749\n",
            "751\n",
            "753\n",
            "755\n",
            "757\n",
            "759\n",
            "761\n",
            "763\n",
            "765\n",
            "767\n",
            "769\n",
            "771\n",
            "773\n",
            "775\n",
            "777\n",
            "779\n",
            "781\n",
            "783\n",
            "785\n",
            "787\n",
            "789\n",
            "791\n",
            "793\n",
            "795\n",
            "797\n",
            "799\n"
          ]
        }
      ]
    },
    {
      "cell_type": "markdown",
      "source": [
        "Question 4.3"
      ],
      "metadata": {
        "id": "zSISi93Ki0oS"
      }
    },
    {
      "cell_type": "code",
      "source": [
        "def is_divisible(num):\n",
        "  if num % 7 == 0 and num % 9 == 0:\n",
        "    return True\n",
        "  else:\n",
        "    return False\n",
        "\n",
        "for i in range(100, 1001):\n",
        "  if is_divisible(i):\n",
        "    print(i)\n",
        "\n"
      ],
      "metadata": {
        "colab": {
          "base_uri": "https://localhost:8080/"
        },
        "id": "YEWL0w1Xi2Ve",
        "outputId": "1545e078-fb43-4a13-f5d5-c62a335145b6"
      },
      "execution_count": null,
      "outputs": [
        {
          "output_type": "stream",
          "name": "stdout",
          "text": [
            "126\n",
            "189\n",
            "252\n",
            "315\n",
            "378\n",
            "441\n",
            "504\n",
            "567\n",
            "630\n",
            "693\n",
            "756\n",
            "819\n",
            "882\n",
            "945\n"
          ]
        }
      ]
    },
    {
      "cell_type": "markdown",
      "source": [
        "Question 5"
      ],
      "metadata": {
        "id": "1BJTj7qcmUuJ"
      }
    },
    {
      "cell_type": "code",
      "source": [
        "import random\n",
        "\n",
        "def generate_random_numbers():\n",
        "    return [random.randint(10, 30) for _ in range(10)]\n",
        "\n",
        "list1 = generate_random_numbers()\n",
        "list2 = generate_random_numbers()\n",
        "\n",
        "print(\"List 1:\", list1)\n",
        "print(\"List 2:\", list2)\n",
        "\n",
        "# Find common numbers\n",
        "common_numbers = set(list1).intersection(list2)\n",
        "print(\"Common numbers:\", common_numbers)\n",
        "\n",
        "# Find unique numbers\n",
        "unique_numbers = set(list1).symmetric_difference(list2)\n",
        "print(\"Unique numbers:\", unique_numbers)\n",
        "\n",
        "# Find minimum values\n",
        "min_value = min(min(list1), min(list2))\n",
        "print(\"Minimum value:\", min_value)\n",
        "\n",
        "# Find maximum values\n",
        "max_value = max(max(list1), max(list2))\n",
        "print(\"Maximum value:\", max_value)\n",
        "\n",
        "# Find sum of both lists\n",
        "total_sum = sum(list1) + sum(list2)\n",
        "print(\"Sum of both lists:\", total_sum)\n"
      ],
      "metadata": {
        "colab": {
          "base_uri": "https://localhost:8080/"
        },
        "id": "1VXwEC06jWQ_",
        "outputId": "a41fc705-f5cd-46fc-937d-d8e13d08fefb"
      },
      "execution_count": null,
      "outputs": [
        {
          "output_type": "stream",
          "name": "stdout",
          "text": [
            "List 1: [28, 14, 16, 25, 30, 11, 21, 29, 12, 25]\n",
            "List 2: [20, 16, 22, 13, 16, 28, 21, 22, 21, 21]\n",
            "Common numbers: {16, 28, 21}\n",
            "Unique numbers: {11, 12, 13, 14, 20, 22, 25, 29, 30}\n",
            "Minimum value: 11\n",
            "Maximum value: 30\n",
            "Sum of both lists: 411\n"
          ]
        }
      ]
    },
    {
      "cell_type": "markdown",
      "source": [
        "Question 6"
      ],
      "metadata": {
        "id": "4ip2AuLpncI1"
      }
    },
    {
      "cell_type": "code",
      "source": [
        "import random\n",
        "\n",
        "def random_number_generator():\n",
        "  return [random.randint(100,900) for i in range(100)]\n",
        "odd = 0\n",
        "odd_num = []\n",
        "even = 0\n",
        "even_num = []\n",
        "prime = 0\n",
        "prime_num = []\n",
        "L = random_number_generator()\n",
        "print(L)\n",
        "\n",
        "# all odd numbers\n",
        "print(\"Printing all Odd numbers in the list\")\n",
        "def is_odd(num):\n",
        "  if num%2 == 0:\n",
        "    return False\n",
        "  else:\n",
        "    return True\n",
        "\n",
        "for i in L:\n",
        "  if is_odd(i):\n",
        "    odd_num.append(i)\n",
        "    odd += 1\n",
        "\n",
        "print(odd_num)\n",
        "print(\"Odd numbers: \", odd)\n",
        "\n",
        "# all even numbers\n",
        "print(\"Printing all Even numbers in the list\")\n",
        "for i in L:\n",
        "  if not is_odd(i):\n",
        "    even_num.append(i)\n",
        "    even += 1\n",
        "\n",
        "print(even_num)\n",
        "print(\"Even numbers: \", even)\n",
        "\n",
        "# all prime numbers\n",
        "print(\"Printing all Prime numbers in the list\")\n",
        "def is_prime(num):\n",
        "  for i in range(2, num//2 +1):\n",
        "    if num % i == 0:\n",
        "      return False\n",
        "    else:\n",
        "      return True\n",
        "\n",
        "for i in L:\n",
        "  if is_prime(i):\n",
        "    prime += 1\n",
        "    prime_num.append(i)\n",
        "print(prime_num)\n",
        "print(\"Prime numbers are \", prime)"
      ],
      "metadata": {
        "colab": {
          "base_uri": "https://localhost:8080/"
        },
        "id": "5DC2G23XneZ7",
        "outputId": "1fed3aaa-7c5e-406f-afe5-1216cbc4e7ce"
      },
      "execution_count": null,
      "outputs": [
        {
          "output_type": "stream",
          "name": "stdout",
          "text": [
            "[665, 141, 671, 623, 326, 743, 428, 554, 118, 742, 436, 601, 807, 741, 850, 318, 863, 546, 829, 113, 873, 239, 354, 522, 195, 884, 454, 225, 266, 448, 233, 355, 243, 208, 678, 696, 489, 230, 420, 354, 256, 517, 330, 461, 735, 232, 489, 761, 829, 601, 363, 207, 648, 136, 205, 114, 298, 616, 431, 350, 152, 247, 292, 774, 526, 871, 737, 317, 566, 402, 596, 465, 575, 791, 405, 165, 264, 648, 131, 689, 419, 439, 308, 437, 625, 538, 293, 100, 755, 269, 724, 399, 667, 847, 601, 246, 255, 722, 653, 206]\n",
            "Printing all Odd numbers in the list\n",
            "[665, 141, 671, 623, 743, 601, 807, 741, 863, 829, 113, 873, 239, 195, 225, 233, 355, 243, 489, 517, 461, 735, 489, 761, 829, 601, 363, 207, 205, 431, 247, 871, 737, 317, 465, 575, 791, 405, 165, 131, 689, 419, 439, 437, 625, 293, 755, 269, 399, 667, 847, 601, 255, 653]\n",
            "Odd numbers:  54\n",
            "Printing all Even numbers in the list\n",
            "[326, 428, 554, 118, 742, 436, 850, 318, 546, 354, 522, 884, 454, 266, 448, 208, 678, 696, 230, 420, 354, 256, 330, 232, 648, 136, 114, 298, 616, 350, 152, 292, 774, 526, 566, 402, 596, 264, 648, 308, 538, 100, 724, 246, 722, 206]\n",
            "Even numbers:  46\n",
            "Printing all Prime numbers in the list\n",
            "[665, 141, 671, 623, 743, 601, 807, 741, 863, 829, 113, 873, 239, 195, 225, 233, 355, 243, 489, 517, 461, 735, 489, 761, 829, 601, 363, 207, 205, 431, 247, 871, 737, 317, 465, 575, 791, 405, 165, 131, 689, 419, 439, 437, 625, 293, 755, 269, 399, 667, 847, 601, 255, 653]\n",
            "Prime numbers are  54\n"
          ]
        }
      ]
    },
    {
      "cell_type": "markdown",
      "source": [
        "Question 7"
      ],
      "metadata": {
        "id": "kcqrpijyqiep"
      }
    },
    {
      "cell_type": "code",
      "source": [
        "D = {1: \"One\", 2: \"Two\", 3: \"Three\", 4: \"Four\", 5: \"Five\"}\n",
        "\n",
        "with open(\"output7.txt\", \"w\") as file:\n",
        "    for key, value in D.items():\n",
        "        file.write(f\"{key}, {value}\\n\")\n"
      ],
      "metadata": {
        "id": "f5MWB8u2qj96"
      },
      "execution_count": null,
      "outputs": []
    },
    {
      "cell_type": "markdown",
      "source": [
        "Question 8"
      ],
      "metadata": {
        "id": "47sb_jkJrYV1"
      }
    },
    {
      "cell_type": "code",
      "source": [
        "L = [\"One\", \"Two\", \"Three\", \"Four\", \"Five\"]\n",
        "\n",
        "with open(\"output8.txt\", \"w\") as file:\n",
        "    for element in L:\n",
        "        length = len(element)\n",
        "        file.write(f\"{element}, {length}\\n\")\n"
      ],
      "metadata": {
        "id": "r5MxULiUrZxS"
      },
      "execution_count": null,
      "outputs": []
    },
    {
      "cell_type": "markdown",
      "source": [
        "Question 9"
      ],
      "metadata": {
        "id": "y90g7fjxsF1x"
      }
    },
    {
      "cell_type": "code",
      "source": [
        "import random\n",
        "import string\n",
        "\n",
        "def generate_random_string(length):\n",
        "    return ''.join(random.choice(string.ascii_letters) for _ in range(length))\n",
        "\n",
        "with open(\"output9.txt\", \"w\") as file:\n",
        "    for _ in range(100):\n",
        "        string_length = random.randint(10, 15)\n",
        "        random_string = generate_random_string(string_length)\n",
        "        file.write(random_string + \"\\n\")\n"
      ],
      "metadata": {
        "id": "rPzZTrAZsHMt"
      },
      "execution_count": null,
      "outputs": []
    },
    {
      "cell_type": "markdown",
      "source": [
        "Question 10"
      ],
      "metadata": {
        "id": "WjXrMzjTsaXZ"
      }
    },
    {
      "cell_type": "code",
      "source": [
        "def is_prime(number):\n",
        "    if number < 2:\n",
        "        return False\n",
        "    for i in range(2, int(number ** 0.5) + 1):\n",
        "        if number % i == 0:\n",
        "            return False\n",
        "    return True\n",
        "\n",
        "with open(\"output10.txt\", \"w\") as file:\n",
        "    for number in range(600, 801):\n",
        "        if is_prime(number):\n",
        "            file.write(str(number) + \"\\n\")\n"
      ],
      "metadata": {
        "id": "JUwq6M2Isb5z"
      },
      "execution_count": null,
      "outputs": []
    },
    {
      "cell_type": "markdown",
      "source": [
        "Question 11"
      ],
      "metadata": {
        "id": "Ce6f_mYnsivo"
      }
    },
    {
      "cell_type": "code",
      "source": [
        "import time\n",
        "\n",
        "# Start the timer\n",
        "start_time = time.time()\n",
        "\n",
        "# Your program or code block here\n",
        "# ...\n",
        "\n",
        "# End the timer\n",
        "end_time = time.time()\n",
        "\n",
        "# Calculate the time taken\n",
        "time_taken = end_time - start_time\n",
        "\n",
        "print(\"Time taken:\", time_taken, \"seconds\")\n"
      ],
      "metadata": {
        "colab": {
          "base_uri": "https://localhost:8080/"
        },
        "id": "knVEILOVsn4h",
        "outputId": "c659425d-a439-4fce-98e0-aa576dff4282"
      },
      "execution_count": null,
      "outputs": [
        {
          "output_type": "stream",
          "name": "stdout",
          "text": [
            "Time taken: 3.790855407714844e-05 seconds\n"
          ]
        }
      ]
    },
    {
      "cell_type": "markdown",
      "source": [
        "Question 12"
      ],
      "metadata": {
        "id": "_bLb7B7Vs7LF"
      }
    },
    {
      "cell_type": "code",
      "source": [
        "import time\n",
        "import matplotlib.pyplot as plt\n",
        "\n",
        "def sort_and_measure_time(elements):\n",
        "    # Generate a list of random numbers\n",
        "    lst = [random.randint(1, 1000) for _ in range(elements)]\n",
        "\n",
        "    # Start the timer\n",
        "    start_time = time.time()\n",
        "\n",
        "    # Sort the list\n",
        "    lst.sort()\n",
        "\n",
        "    # End the timer\n",
        "    end_time = time.time()\n",
        "\n",
        "    # Calculate the time taken\n",
        "    time_taken = end_time - start_time\n",
        "\n",
        "    return time_taken\n",
        "\n",
        "# Define the number of elements in the list\n",
        "num_elements = [5000, 10000, 15000, 20000, 25000]\n",
        "\n",
        "# List to store the time taken for each number of elements\n",
        "time_taken_list = []\n",
        "\n",
        "# Sort and measure time for each number of elements\n",
        "for num in num_elements:\n",
        "    time_taken = sort_and_measure_time(num)\n",
        "    time_taken_list.append(time_taken)\n",
        "\n",
        "# Plot the graph\n",
        "plt.plot(num_elements, time_taken_list)\n",
        "plt.xlabel('Number of Elements')\n",
        "plt.ylabel('Time Taken (seconds)')\n",
        "plt.title('Time Taken to Sort Different Numbers of Elements')\n",
        "plt.show()\n"
      ],
      "metadata": {
        "colab": {
          "base_uri": "https://localhost:8080/",
          "height": 472
        },
        "id": "Oc9Zm1YQs8SI",
        "outputId": "70feaa5b-d4fd-405a-ff59-dbde0485bbd8"
      },
      "execution_count": null,
      "outputs": [
        {
          "output_type": "display_data",
          "data": {
            "text/plain": [
              "<Figure size 640x480 with 1 Axes>"
            ],
            "image/png": "[encoded data removed]"
          },
          "metadata": {}
        }
      ]
    },
    {
      "cell_type": "markdown",
      "source": [
        "Question 13"
      ],
      "metadata": {
        "id": "9kRO5hMFtoDt"
      }
    },
    {
      "cell_type": "code",
      "source": [
        "def calculate_average(marks):\n",
        "    total = sum(marks)\n",
        "    average = total / len(marks)\n",
        "    return average\n",
        "\n",
        "# Dictionary of student marks\n",
        "student_marks = {\n",
        "    \"Alice\": [80, 90, 85, 92, 88],\n",
        "    \"Bob\": [75, 82, 88, 79, 93],\n",
        "    \"Charlie\": [90, 85, 92, 78, 80],\n",
        "    \"David\": [92, 88, 95, 84, 90],\n",
        "    \"Eve\": [85, 90, 82, 87, 95]\n",
        "}\n",
        "\n",
        "# Find student with maximum average marks\n",
        "max_average = float('-inf')\n",
        "max_student = \"\"\n",
        "\n",
        "for student, marks in student_marks.items():\n",
        "    average = calculate_average(marks)\n",
        "    if average > max_average:\n",
        "        max_average = average\n",
        "        max_student = student\n",
        "\n",
        "# Find student with minimum average marks\n",
        "min_average = float('inf')\n",
        "min_student = \"\"\n",
        "\n",
        "for student, marks in student_marks.items():\n",
        "    average = calculate_average(marks)\n",
        "    if average < min_average:\n",
        "        min_average = average\n",
        "        min_student = student\n",
        "\n",
        "print(\"Student with maximum average marks:\")\n",
        "print(\"Name:\", max_student)\n",
        "print(\"Average Marks:\", max_average)\n",
        "\n",
        "print(\"\\nStudent with minimum average marks:\")\n",
        "print(\"Name:\", min_student)\n",
        "print(\"Average Marks:\", min_average)\n"
      ],
      "metadata": {
        "colab": {
          "base_uri": "https://localhost:8080/"
        },
        "id": "jbSx7dSftqXI",
        "outputId": "424ddf10-c1b7-4460-85ad-91cf518a98be"
      },
      "execution_count": null,
      "outputs": [
        {
          "output_type": "stream",
          "name": "stdout",
          "text": [
            "Student with maximum average marks:\n",
            "Name: David\n",
            "Average Marks: 89.8\n",
            "\n",
            "Student with minimum average marks:\n",
            "Name: Bob\n",
            "Average Marks: 83.4\n"
          ]
        }
      ]
    }
  ]
}